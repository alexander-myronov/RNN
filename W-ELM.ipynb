{
 "cells": [
  {
   "cell_type": "code",
   "execution_count": 1,
   "metadata": {
    "collapsed": false
   },
   "outputs": [],
   "source": [
    "import numpy as np\n",
    "import itertools\n",
    "import pandas as pd\n",
    "from sklearn.datasets import load_svmlight_file\n",
    "from sklearn.cross_validation import cross_val_score, StratifiedKFold\n",
    "from sklearn.grid_search import GridSearchCV\n",
    "from sklearn.ensemble import RandomForestClassifier\n",
    "from sklearn.base import clone\n",
    "from twelm import TWELM, XELM, RBFNet\n",
    "\n",
    "\n",
    "\n",
    "from sklearn.metrics import confusion_matrix\n"
   ]
  },
  {
   "cell_type": "code",
   "execution_count": 2,
   "metadata": {
    "collapsed": false
   },
   "outputs": [],
   "source": [
    "%matplotlib tk\n",
    "%load_ext autoreload\n",
    "%autoreload 0"
   ]
  },
  {
   "cell_type": "code",
   "execution_count": 3,
   "metadata": {
    "collapsed": true
   },
   "outputs": [],
   "source": [
    "datafiles = [\n",
    "    r'data/5ht2a_ExtFP.libsvm',\n",
    "    r'data/5ht2c_ExtFP.libsvm',\n",
    "    r'data/5ht6_ExtFP.libsvm',\n",
    "    r'data/5ht7_ExtFP.libsvm',\n",
    "    r'data/M1_ExtFP.libsvm',\n",
    "    r'data/SERT_ExtFP.libsvm',\n",
    "    r'data/cathepsin_ExtFP.libsvm',\n",
    "    r'data/d2_ExtFP.libsvm',\n",
    "    r'data/h1_ExtFP.libsvm',\n",
    "    r'data/hERG_ExtFP.libsvm',\n",
    "    r'data/hiv_integrase_ExtFP.libsvm',\n",
    "    r'data/hiv_protease_ExtFP.libsvm',\n",
    "             ]"
   ]
  },
  {
   "cell_type": "code",
   "execution_count": 4,
   "metadata": {
    "collapsed": true
   },
   "outputs": [],
   "source": [
    "def process_cm(confusion_mat, i=0):\n",
    "    # i means which class to choose to do one-vs-the-rest calculation\n",
    "    # rows are actual obs whereas columns are predictions\n",
    "    TP = confusion_mat[i,i]  # correctly labeled as i\n",
    "    FP = confusion_mat[:,i].sum() - TP  # incorrectly labeled as i\n",
    "    FN = confusion_mat[i,:].sum() - TP  # incorrectly labeled as non-i\n",
    "    TN = confusion_mat.sum().sum() - TP - FP - FN\n",
    "    return TP, FP, FN, TN"
   ]
  },
  {
   "cell_type": "code",
   "execution_count": 5,
   "metadata": {
    "collapsed": true
   },
   "outputs": [],
   "source": [
    "def bac_error(Y, Y_predict):\n",
    "    cm = confusion_matrix(Y, Y_predict)\n",
    "    bac_values = np.zeros(cm.shape[0])\n",
    "    for i in xrange(cm.shape[0]):\n",
    "        tp, fp, fn, tn = process_cm(cm, i=i)\n",
    "        if tp+fn > 0 and tn+fp>0:\n",
    "            bac_values[i] = 0.5*tp/(tp+fn) + 0.5*tn/(tn+fp)\n",
    "    return bac_values"
   ]
  },
  {
   "cell_type": "code",
   "execution_count": 6,
   "metadata": {
    "collapsed": true
   },
   "outputs": [],
   "source": [
    "def bac_scorer(estimator, X, Y):\n",
    "    Y_predict = estimator.predict(X)\n",
    "    bac_values = bac_error(Y, Y_predict)\n",
    "    return np.mean(bac_values)"
   ]
  },
  {
   "cell_type": "code",
   "execution_count": 7,
   "metadata": {
    "collapsed": false
   },
   "outputs": [],
   "source": [
    "def perform_grid_search(estimator, features, activity,scorer,param_grid, n_outer_folds, n_inner_folds, n_outer_repetitions):\n",
    "    \"\"\"\n",
    "    returns\n",
    "    test score for each outer fold\n",
    "    best score from grid search\n",
    "    best estimator parameters for each iteration\n",
    "    \"\"\"\n",
    "    test_scores = np.zeros(n_outer_folds*n_outer_repetitions)\n",
    "    train_scores = np.zeros(n_outer_folds*n_outer_repetitions)\n",
    "    best_parameters = []\n",
    "    for rep in range(n_outer_repetitions):\n",
    "        #print('%d/%d' % (rep, n_outer_repetitions))\n",
    "        fold = StratifiedKFold(activity, n_folds=n_outer_folds, shuffle=True)\n",
    "        #print(len(fold))\n",
    "        fit_params = {}\n",
    "        if isinstance(estimator, XELM) and 'h' in param_grid:\n",
    "            max_h = min(features.shape[0], max(param_grid['h']))\n",
    "#             fit_params['hidden_layer'] = features[np.random.choice(features.shape[0],\n",
    "#                                             max_h,\n",
    "#                                             replace=False)]\n",
    "        for i, (train_index, test_index) in enumerate(fold):\n",
    "            search = GridSearchCV(estimator,\\\n",
    "                                  param_grid,\\\n",
    "                                  scoring=scorer,\n",
    "                                  cv=n_inner_folds,\n",
    "                                  n_jobs=1)\n",
    "\n",
    "            search.fit(features[train_index], activity[train_index])\n",
    "\n",
    "            test_score = scorer(search.best_estimator_, features[test_index], activity[test_index])\n",
    "            test_scores[rep*n_outer_folds+i] = test_score\n",
    "            train_scores[rep*n_outer_folds+i] = search.best_score_\n",
    "\n",
    "            best_parameters.append(search.best_params_)\n",
    "#             print('train score=%f, test score=%f' % (search.best_score_, test_score))\n",
    "            print(search.best_params_)\n",
    "    return test_scores, train_scores, best_parameters"
   ]
  },
  {
   "cell_type": "code",
   "execution_count": 8,
   "metadata": {
    "collapsed": true
   },
   "outputs": [],
   "source": [
    "def test_models(estimators, estimator_grids, X, Y, scorer, n_outer_folds, n_inner_folds, n_outer_repetitions):\n",
    "    estimator_scores = np.zeros(len(estimators))\n",
    "    estimator_scores_std = np.zeros(len(estimators))\n",
    "    assert len(estimators) == len(estimator_grids)\n",
    "    for i, (estimator, grid) in enumerate(itertools.izip(estimators, estimator_grids)):\n",
    "        print(type(estimator).__name__)\n",
    "        \n",
    "        scores_test, _, _ = perform_grid_search(estimator,\n",
    "                                                X,\n",
    "                                                Y,\n",
    "                                                param_grid=grid,\n",
    "                                                scorer=scorer,\n",
    "                                                n_outer_folds=n_outer_folds,\n",
    "                                                n_inner_folds=n_inner_folds, \n",
    "                                                n_outer_repetitions=n_outer_repetitions)\n",
    "        print(scores_test)\n",
    "        estimator_scores[i]= scores_test.mean()\n",
    "        estimator_scores_std[i] = scores_test.std()\n",
    "    \n",
    "    return estimator_scores, estimator_scores_std\n",
    "        "
   ]
  },
  {
   "cell_type": "code",
   "execution_count": 9,
   "metadata": {
    "collapsed": false
   },
   "outputs": [],
   "source": [
    "estimators = [\n",
    "    RBFNet(h=100),\n",
    "    #XELM(h=10, f='tanimoto', balanced=True),\n",
    "    XELM(h=10, f='kulczynski2', balanced=True),\n",
    "    RandomForestClassifier(n_jobs=-1)\n",
    "]\n",
    "\n",
    "estimator_grids = [\n",
    "    #{'C': [ 1000,10000, 100000], 'h': [ 1500, 2000, 2500]},\n",
    "    {'C': [ 1000, 100000], 'h': [ 500,  1500], 'b':[0.4, 1, 2]},\n",
    "    {'C': [ 1000, 100000], 'h': [ 500,  1500]},\n",
    "    {'n_estimators': [75, 125]}\n",
    "]\n",
    "\n",
    "estimator_grids_simple = [\n",
    "    #{'C': [ 1000,10000, 100000], 'h': [ 1500, 2000, 2500]},\n",
    "    {'C': [ 1000], 'h': [   1500], 'b':[0.4, 0.5, 1, 1.3,  2]},\n",
    "    {'C': [ 1000], 'h': [   1500]},\n",
    "    {'n_estimators': [75, 125]}\n",
    "]\n",
    "\n"
   ]
  },
  {
   "cell_type": "code",
   "execution_count": null,
   "metadata": {
    "collapsed": false
   },
   "outputs": [
    {
     "name": "stdout",
     "output_type": "stream",
     "text": [
      "data/5ht2a_ExtFP.libsvm\n",
      "RBFNet"
     ]
    }
   ],
   "source": [
    "def get_estimator_descritpion(estimator):\n",
    "    name = type(estimator).__name__\n",
    "    if hasattr(estimator, 'metric_name') and not isinstance(estimator, RBFNet):\n",
    "        name+= '(%s)' % estimator.metric_name\n",
    "    return name\n",
    "\n",
    "scores_grid = pd.DataFrame()\n",
    "scores_grid.loc[:, 'dataset'] = pd.Series()\n",
    "for estimator in estimators:\n",
    "    scores_grid.loc[:,get_estimator_descritpion(estimator) +'_score'] = pd.Series(np.zeros(len(datafiles)))\n",
    "    scores_grid.loc[:, get_estimator_descritpion(estimator)+'_std'] = pd.Series(np.zeros(len(datafiles)))\n",
    "\n",
    "for i, datafile in enumerate(datafiles):\n",
    "    print(datafile)\n",
    "    \n",
    "    scores_grid.ix[i, 'dataset'] = datafile\n",
    "    features, activity = load_svmlight_file(datafile)\n",
    "\n",
    "    \n",
    "    estimators_scores, estimatoirs_scores_std = test_models(estimators, \n",
    "                                                            estimator_grids_simple,\n",
    "                                                            features,\n",
    "                                                            activity,\n",
    "                                                            scorer=bac_scorer,\n",
    "                                                            n_outer_folds=4,\n",
    "                                                            n_inner_folds=4,\n",
    "                                                            n_outer_repetitions=2)\n",
    "    \n",
    "    \n",
    "    for estimator, score, std in itertools.izip(estimators, estimators_scores, estimatoirs_scores_std):\n",
    "        scores_grid.ix[i, get_estimator_descritpion(estimator)+'_score'] = score\n",
    "        scores_grid.ix[i, get_estimator_descritpion(estimator)+'_std'] = std\n",
    "    \n",
    "    "
   ]
  },
  {
   "cell_type": "code",
   "execution_count": null,
   "metadata": {
    "collapsed": false
   },
   "outputs": [],
   "source": [
    "import cPickle\n",
    "n = RBFNet(h=100)\n",
    "with open('test.pcl', 'wb') as f:\n",
    "    cPickle.dump(n, f, -1)"
   ]
  },
  {
   "cell_type": "code",
   "execution_count": null,
   "metadata": {
    "collapsed": false
   },
   "outputs": [],
   "source": [
    "scores_grid"
   ]
  },
  {
   "cell_type": "code",
   "execution_count": null,
   "metadata": {
    "collapsed": true
   },
   "outputs": [],
   "source": [
    "scores_grid.to_csv(r'data/scores_grid.csv', index=False)"
   ]
  },
  {
   "cell_type": "markdown",
   "metadata": {},
   "source": [
    "a)\n",
    "    1. outer*n\n",
    "    2. fix projection, adjust size\n",
    "    result: std minimization\n",
    "b) Models then projections then representations\n",
    "\n",
    "c) github"
   ]
  },
  {
   "cell_type": "code",
   "execution_count": null,
   "metadata": {
    "collapsed": true
   },
   "outputs": [],
   "source": []
  }
 ],
 "metadata": {
  "kernelspec": {
   "display_name": "Python 2",
   "language": "python",
   "name": "python2"
  },
  "language_info": {
   "codemirror_mode": {
    "name": "ipython",
    "version": 2
   },
   "file_extension": ".py",
   "mimetype": "text/x-python",
   "name": "python",
   "nbconvert_exporter": "python",
   "pygments_lexer": "ipython2",
   "version": "2.7.10"
  }
 },
 "nbformat": 4,
 "nbformat_minor": 0
}
