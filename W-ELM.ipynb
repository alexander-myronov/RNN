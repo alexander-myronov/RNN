{
 "cells": [
  {
   "cell_type": "code",
   "execution_count": 41,
   "metadata": {
    "collapsed": false
   },
   "outputs": [],
   "source": [
    "import numpy as np\n",
    "import itertools\n",
    "import pandas as pd\n",
    "from sklearn.datasets import load_svmlight_file\n",
    "from sklearn.cross_validation import cross_val_score, StratifiedKFold\n",
    "from sklearn.grid_search import GridSearchCV\n",
    "from sklearn.ensemble import RandomForestClassifier\n",
    "from sklearn.base import clone\n",
    "from twelm import TWELM, XELM, RBFNet, EEM\n",
    "\n",
    "\n",
    "\n",
    "from sklearn.metrics import confusion_matrix\n"
   ]
  },
  {
   "cell_type": "code",
   "execution_count": 28,
   "metadata": {
    "collapsed": false
   },
   "outputs": [
    {
     "name": "stdout",
     "output_type": "stream",
     "text": [
      "The autoreload extension is already loaded. To reload it, use:\n",
      "  %reload_ext autoreload\n"
     ]
    }
   ],
   "source": [
    "%matplotlib tk\n",
    "%load_ext autoreload\n",
    "%autoreload 2"
   ]
  },
  {
   "cell_type": "code",
   "execution_count": 29,
   "metadata": {
    "collapsed": true
   },
   "outputs": [],
   "source": [
    "datafiles = [\n",
    "    r'data/5ht2a_ExtFP.libsvm',\n",
    "    r'data/5ht2c_ExtFP.libsvm',\n",
    "    r'data/5ht6_ExtFP.libsvm',\n",
    "    r'data/5ht7_ExtFP.libsvm',\n",
    "    r'data/M1_ExtFP.libsvm',\n",
    "    r'data/SERT_ExtFP.libsvm',\n",
    "    r'data/cathepsin_ExtFP.libsvm',\n",
    "    r'data/d2_ExtFP.libsvm',\n",
    "    r'data/h1_ExtFP.libsvm',\n",
    "    r'data/hERG_ExtFP.libsvm',\n",
    "    r'data/hiv_integrase_ExtFP.libsvm',\n",
    "    r'data/hiv_protease_ExtFP.libsvm',\n",
    "             ]"
   ]
  },
  {
   "cell_type": "code",
   "execution_count": 30,
   "metadata": {
    "collapsed": true
   },
   "outputs": [],
   "source": [
    "def process_cm(confusion_mat, i=0):\n",
    "    # i means which class to choose to do one-vs-the-rest calculation\n",
    "    # rows are actual obs whereas columns are predictions\n",
    "    TP = confusion_mat[i,i]  # correctly labeled as i\n",
    "    FP = confusion_mat[:,i].sum() - TP  # incorrectly labeled as i\n",
    "    FN = confusion_mat[i,:].sum() - TP  # incorrectly labeled as non-i\n",
    "    TN = confusion_mat.sum().sum() - TP - FP - FN\n",
    "    return TP, FP, FN, TN"
   ]
  },
  {
   "cell_type": "code",
   "execution_count": 31,
   "metadata": {
    "collapsed": true
   },
   "outputs": [],
   "source": [
    "def bac_error(Y, Y_predict):\n",
    "    cm = confusion_matrix(Y, Y_predict)\n",
    "    bac_values = np.zeros(cm.shape[0])\n",
    "    for i in xrange(cm.shape[0]):\n",
    "        tp, fp, fn, tn = process_cm(cm, i=i)\n",
    "        if tp+fn > 0 and tn+fp>0:\n",
    "            bac_values[i] = 0.5*tp/(tp+fn) + 0.5*tn/(tn+fp)\n",
    "    return bac_values"
   ]
  },
  {
   "cell_type": "code",
   "execution_count": 32,
   "metadata": {
    "collapsed": true
   },
   "outputs": [],
   "source": [
    "def bac_scorer(estimator, X, Y):\n",
    "    Y_predict = estimator.predict(X)\n",
    "    bac_values = bac_error(Y, Y_predict)\n",
    "    return np.mean(bac_values)"
   ]
  },
  {
   "cell_type": "code",
   "execution_count": 33,
   "metadata": {
    "collapsed": false
   },
   "outputs": [],
   "source": [
    "def perform_grid_search(estimator, features, activity,scorer,param_grid, n_outer_folds, n_inner_folds, n_outer_repetitions):\n",
    "    \"\"\"\n",
    "    returns\n",
    "    test score for each outer fold\n",
    "    best score from grid search\n",
    "    best estimator parameters for each iteration\n",
    "    \"\"\"\n",
    "    test_scores = np.zeros(n_outer_folds*n_outer_repetitions)\n",
    "    train_scores = np.zeros(n_outer_folds*n_outer_repetitions)\n",
    "    best_parameters = []\n",
    "    for rep in range(n_outer_repetitions):\n",
    "        #print('%d/%d' % (rep, n_outer_repetitions))\n",
    "        fold = StratifiedKFold(activity, n_folds=n_outer_folds, shuffle=True)\n",
    "        #print(len(fold))\n",
    "        fit_params = {}\n",
    "        if isinstance(estimator, XELM) and 'h' in param_grid:\n",
    "            max_h = min(features.shape[0], max(param_grid['h']))\n",
    "            fit_params['hidden_layer'] = features[np.random.choice(features.shape[0],\n",
    "                                            max_h,\n",
    "                                            replace=False)]\n",
    "        for i, (train_index, test_index) in enumerate(fold):\n",
    "            search = GridSearchCV(estimator,\\\n",
    "                                  param_grid,\\\n",
    "                                  scoring=scorer,\n",
    "                                  cv=n_inner_folds,\n",
    "                                  n_jobs=1,\n",
    "                                  fit_params=fit_params)\n",
    "\n",
    "            search.fit(features[train_index], activity[train_index])\n",
    "\n",
    "            test_score = scorer(search.best_estimator_, features[test_index], activity[test_index])\n",
    "            test_scores[rep*n_outer_folds+i] = test_score\n",
    "            train_scores[rep*n_outer_folds+i] = search.best_score_\n",
    "\n",
    "            best_parameters.append(search.best_params_)\n",
    "#             print('train score=%f, test score=%f' % (search.best_score_, test_score))\n",
    "            print(search.best_params_)\n",
    "    return test_scores, train_scores, best_parameters"
   ]
  },
  {
   "cell_type": "code",
   "execution_count": 34,
   "metadata": {
    "collapsed": true
   },
   "outputs": [],
   "source": [
    "def test_models(estimators, estimator_grids, X, Y, scorer, n_outer_folds, n_inner_folds, n_outer_repetitions):\n",
    "    estimator_scores = np.zeros(len(estimators))\n",
    "    estimator_scores_std = np.zeros(len(estimators))\n",
    "    assert len(estimators) == len(estimator_grids)\n",
    "    for i, (estimator, grid) in enumerate(itertools.izip(estimators, estimator_grids)):\n",
    "        print(type(estimator).__name__)\n",
    "        \n",
    "        scores_test, _, _ = perform_grid_search(estimator,\n",
    "                                                X,\n",
    "                                                Y,\n",
    "                                                param_grid=grid,\n",
    "                                                scorer=scorer,\n",
    "                                                n_outer_folds=n_outer_folds,\n",
    "                                                n_inner_folds=n_inner_folds, \n",
    "                                                n_outer_repetitions=n_outer_repetitions)\n",
    "        print(scores_test)\n",
    "        estimator_scores[i]= scores_test.mean()\n",
    "        estimator_scores_std[i] = scores_test.std()\n",
    "    \n",
    "    return estimator_scores, estimator_scores_std\n",
    "        "
   ]
  },
  {
   "cell_type": "code",
   "execution_count": 44,
   "metadata": {
    "collapsed": false
   },
   "outputs": [],
   "source": [
    "estimators = [\n",
    "    EEM(h=100, f='tanimoto'),\n",
    "    RBFNet(h=100),\n",
    "    #XELM(h=10, f='tanimoto', balanced=True),\n",
    "    XELM(h=10, f='kulczynski2', balanced=True),\n",
    "    RandomForestClassifier(n_jobs=-1)\n",
    "]\n",
    "\n",
    "estimator_grids = [\n",
    "    {'C': [ None], 'h': [ 500, 1500]},\n",
    "    {'C': [ 1000, 100000], 'h': [ 500,  1500], 'b':[0.4, 1, 2]},\n",
    "    {'C': [ 1000, 100000], 'h': [ 500,  1500]},\n",
    "    {'n_estimators': [75, 125]}\n",
    "]\n",
    "\n",
    "estimator_grids_simple = [\n",
    "    {'C': [ None], 'h': [ 500, 1500]},\n",
    "    {'C': [ 1000], 'h': [   1500], 'b':[0.4,  2]},\n",
    "    {'C': [ 1000], 'h': [   1500]},\n",
    "    {'n_estimators': [75, 125]}\n",
    "]\n",
    "\n"
   ]
  },
  {
   "cell_type": "code",
   "execution_count": 46,
   "metadata": {
    "collapsed": false,
    "scrolled": true
   },
   "outputs": [
    {
     "name": "stdout",
     "output_type": "stream",
     "text": [
      "data/5ht2a_ExtFP.libsvm\n",
      "EEM\n",
      "{'h': 1500, 'C': None}\n",
      "{'h': 1500, 'C': None}\n",
      "{'h': 1500, 'C': None}\n",
      "{'h': 500, 'C': None}\n",
      "[ 0.85830342  0.87408301  0.86907392  0.83238822]\n",
      "RBFNet\n",
      "{'h': 1500, 'C': 1000, 'b': 0.4}\n",
      "{'h': 1500, 'C': 1000, 'b': 0.4}\n",
      "{'h': 1500, 'C': 1000, 'b': 0.4}\n",
      "{'h': 1500, 'C': 1000, 'b': 0.4}\n",
      "[ 0.81516002  0.81982295  0.83041824  0.81818718]\n",
      "XELM\n",
      "{'h': 1500, 'C': 1000}\n",
      "{'h': 1500, 'C': 1000}\n",
      "{'h': 1500, 'C': 1000}\n",
      "{'h': 1500, 'C': 1000}\n",
      "[ 0.80867777  0.81390853  0.82145816  0.80865739]\n",
      "RandomForestClassifier\n",
      "{'n_estimators': 125}\n",
      "{'n_estimators': 75}\n",
      "{'n_estimators': 75}\n",
      "{'n_estimators': 75}\n",
      "[ 0.81846635  0.82585028  0.8138559   0.81072808]\n",
      "data/5ht2c_ExtFP.libsvm\n",
      "EEM\n",
      "{'h': 500, 'C': None}\n",
      "{'h': 1500, 'C': None}\n",
      "{'h': 1500, 'C': None}\n",
      "{'h': 1500, 'C': None}\n",
      "[ 0.82861503  0.86216911  0.86216911  0.85803688]\n",
      "RBFNet\n",
      "{'h': 1500, 'C': 1000, 'b': 0.4}\n",
      "{'h': 1500, 'C': 1000, 'b': 0.4}\n"
     ]
    },
    {
     "ename": "KeyboardInterrupt",
     "evalue": "",
     "output_type": "error",
     "traceback": [
      "\u001b[1;31m---------------------------------------------------------------------------\u001b[0m",
      "\u001b[1;31mKeyboardInterrupt\u001b[0m                         Traceback (most recent call last)",
      "\u001b[1;32m<ipython-input-46-d18b2e5ca5e1>\u001b[0m in \u001b[0;36m<module>\u001b[1;34m()\u001b[0m\n\u001b[0;32m     25\u001b[0m                                                             \u001b[0mn_outer_folds\u001b[0m\u001b[1;33m=\u001b[0m\u001b[1;36m2\u001b[0m\u001b[1;33m,\u001b[0m\u001b[1;33m\u001b[0m\u001b[0m\n\u001b[0;32m     26\u001b[0m                                                             \u001b[0mn_inner_folds\u001b[0m\u001b[1;33m=\u001b[0m\u001b[1;36m3\u001b[0m\u001b[1;33m,\u001b[0m\u001b[1;33m\u001b[0m\u001b[0m\n\u001b[1;32m---> 27\u001b[1;33m                                                             n_outer_repetitions=2)\n\u001b[0m\u001b[0;32m     28\u001b[0m \u001b[1;33m\u001b[0m\u001b[0m\n\u001b[0;32m     29\u001b[0m \u001b[1;33m\u001b[0m\u001b[0m\n",
      "\u001b[1;32m<ipython-input-34-6e2dcb4f4c51>\u001b[0m in \u001b[0;36mtest_models\u001b[1;34m(estimators, estimator_grids, X, Y, scorer, n_outer_folds, n_inner_folds, n_outer_repetitions)\u001b[0m\n\u001b[0;32m     13\u001b[0m                                                 \u001b[0mn_outer_folds\u001b[0m\u001b[1;33m=\u001b[0m\u001b[0mn_outer_folds\u001b[0m\u001b[1;33m,\u001b[0m\u001b[1;33m\u001b[0m\u001b[0m\n\u001b[0;32m     14\u001b[0m                                                 \u001b[0mn_inner_folds\u001b[0m\u001b[1;33m=\u001b[0m\u001b[0mn_inner_folds\u001b[0m\u001b[1;33m,\u001b[0m\u001b[1;33m\u001b[0m\u001b[0m\n\u001b[1;32m---> 15\u001b[1;33m                                                 n_outer_repetitions=n_outer_repetitions)\n\u001b[0m\u001b[0;32m     16\u001b[0m         \u001b[1;32mprint\u001b[0m\u001b[1;33m(\u001b[0m\u001b[0mscores_test\u001b[0m\u001b[1;33m)\u001b[0m\u001b[1;33m\u001b[0m\u001b[0m\n\u001b[0;32m     17\u001b[0m         \u001b[0mestimator_scores\u001b[0m\u001b[1;33m[\u001b[0m\u001b[0mi\u001b[0m\u001b[1;33m]\u001b[0m\u001b[1;33m=\u001b[0m \u001b[0mscores_test\u001b[0m\u001b[1;33m.\u001b[0m\u001b[0mmean\u001b[0m\u001b[1;33m(\u001b[0m\u001b[1;33m)\u001b[0m\u001b[1;33m\u001b[0m\u001b[0m\n",
      "\u001b[1;32m<ipython-input-33-c8411286c6da>\u001b[0m in \u001b[0;36mperform_grid_search\u001b[1;34m(estimator, features, activity, scorer, param_grid, n_outer_folds, n_inner_folds, n_outer_repetitions)\u001b[0m\n\u001b[0;32m     25\u001b[0m                                   fit_params=fit_params)\n\u001b[0;32m     26\u001b[0m \u001b[1;33m\u001b[0m\u001b[0m\n\u001b[1;32m---> 27\u001b[1;33m             \u001b[0msearch\u001b[0m\u001b[1;33m.\u001b[0m\u001b[0mfit\u001b[0m\u001b[1;33m(\u001b[0m\u001b[0mfeatures\u001b[0m\u001b[1;33m[\u001b[0m\u001b[0mtrain_index\u001b[0m\u001b[1;33m]\u001b[0m\u001b[1;33m,\u001b[0m \u001b[0mactivity\u001b[0m\u001b[1;33m[\u001b[0m\u001b[0mtrain_index\u001b[0m\u001b[1;33m]\u001b[0m\u001b[1;33m)\u001b[0m\u001b[1;33m\u001b[0m\u001b[0m\n\u001b[0m\u001b[0;32m     28\u001b[0m \u001b[1;33m\u001b[0m\u001b[0m\n\u001b[0;32m     29\u001b[0m             \u001b[0mtest_score\u001b[0m \u001b[1;33m=\u001b[0m \u001b[0mscorer\u001b[0m\u001b[1;33m(\u001b[0m\u001b[0msearch\u001b[0m\u001b[1;33m.\u001b[0m\u001b[0mbest_estimator_\u001b[0m\u001b[1;33m,\u001b[0m \u001b[0mfeatures\u001b[0m\u001b[1;33m[\u001b[0m\u001b[0mtest_index\u001b[0m\u001b[1;33m]\u001b[0m\u001b[1;33m,\u001b[0m \u001b[0mactivity\u001b[0m\u001b[1;33m[\u001b[0m\u001b[0mtest_index\u001b[0m\u001b[1;33m]\u001b[0m\u001b[1;33m)\u001b[0m\u001b[1;33m\u001b[0m\u001b[0m\n",
      "\u001b[1;32mD:\\Dev\\Python27\\lib\\site-packages\\sklearn\\grid_search.pyc\u001b[0m in \u001b[0;36mfit\u001b[1;34m(self, X, y)\u001b[0m\n\u001b[0;32m    730\u001b[0m \u001b[1;33m\u001b[0m\u001b[0m\n\u001b[0;32m    731\u001b[0m         \"\"\"\n\u001b[1;32m--> 732\u001b[1;33m         \u001b[1;32mreturn\u001b[0m \u001b[0mself\u001b[0m\u001b[1;33m.\u001b[0m\u001b[0m_fit\u001b[0m\u001b[1;33m(\u001b[0m\u001b[0mX\u001b[0m\u001b[1;33m,\u001b[0m \u001b[0my\u001b[0m\u001b[1;33m,\u001b[0m \u001b[0mParameterGrid\u001b[0m\u001b[1;33m(\u001b[0m\u001b[0mself\u001b[0m\u001b[1;33m.\u001b[0m\u001b[0mparam_grid\u001b[0m\u001b[1;33m)\u001b[0m\u001b[1;33m)\u001b[0m\u001b[1;33m\u001b[0m\u001b[0m\n\u001b[0m\u001b[0;32m    733\u001b[0m \u001b[1;33m\u001b[0m\u001b[0m\n\u001b[0;32m    734\u001b[0m \u001b[1;33m\u001b[0m\u001b[0m\n",
      "\u001b[1;32mD:\\Dev\\Python27\\lib\\site-packages\\sklearn\\grid_search.pyc\u001b[0m in \u001b[0;36m_fit\u001b[1;34m(self, X, y, parameter_iterable)\u001b[0m\n\u001b[0;32m    503\u001b[0m                                     \u001b[0mself\u001b[0m\u001b[1;33m.\u001b[0m\u001b[0mfit_params\u001b[0m\u001b[1;33m,\u001b[0m \u001b[0mreturn_parameters\u001b[0m\u001b[1;33m=\u001b[0m\u001b[0mTrue\u001b[0m\u001b[1;33m,\u001b[0m\u001b[1;33m\u001b[0m\u001b[0m\n\u001b[0;32m    504\u001b[0m                                     error_score=self.error_score)\n\u001b[1;32m--> 505\u001b[1;33m                 \u001b[1;32mfor\u001b[0m \u001b[0mparameters\u001b[0m \u001b[1;32min\u001b[0m \u001b[0mparameter_iterable\u001b[0m\u001b[1;33m\u001b[0m\u001b[0m\n\u001b[0m\u001b[0;32m    506\u001b[0m                 for train, test in cv)\n\u001b[0;32m    507\u001b[0m \u001b[1;33m\u001b[0m\u001b[0m\n",
      "\u001b[1;32mD:\\Dev\\Python27\\lib\\site-packages\\sklearn\\externals\\joblib\\parallel.pyc\u001b[0m in \u001b[0;36m__call__\u001b[1;34m(self, iterable)\u001b[0m\n\u001b[0;32m    657\u001b[0m             \u001b[0mself\u001b[0m\u001b[1;33m.\u001b[0m\u001b[0m_iterating\u001b[0m \u001b[1;33m=\u001b[0m \u001b[0mTrue\u001b[0m\u001b[1;33m\u001b[0m\u001b[0m\n\u001b[0;32m    658\u001b[0m             \u001b[1;32mfor\u001b[0m \u001b[0mfunction\u001b[0m\u001b[1;33m,\u001b[0m \u001b[0margs\u001b[0m\u001b[1;33m,\u001b[0m \u001b[0mkwargs\u001b[0m \u001b[1;32min\u001b[0m \u001b[0miterable\u001b[0m\u001b[1;33m:\u001b[0m\u001b[1;33m\u001b[0m\u001b[0m\n\u001b[1;32m--> 659\u001b[1;33m                 \u001b[0mself\u001b[0m\u001b[1;33m.\u001b[0m\u001b[0mdispatch\u001b[0m\u001b[1;33m(\u001b[0m\u001b[0mfunction\u001b[0m\u001b[1;33m,\u001b[0m \u001b[0margs\u001b[0m\u001b[1;33m,\u001b[0m \u001b[0mkwargs\u001b[0m\u001b[1;33m)\u001b[0m\u001b[1;33m\u001b[0m\u001b[0m\n\u001b[0m\u001b[0;32m    660\u001b[0m \u001b[1;33m\u001b[0m\u001b[0m\n\u001b[0;32m    661\u001b[0m             \u001b[1;32mif\u001b[0m \u001b[0mpre_dispatch\u001b[0m \u001b[1;33m==\u001b[0m \u001b[1;34m\"all\"\u001b[0m \u001b[1;32mor\u001b[0m \u001b[0mn_jobs\u001b[0m \u001b[1;33m==\u001b[0m \u001b[1;36m1\u001b[0m\u001b[1;33m:\u001b[0m\u001b[1;33m\u001b[0m\u001b[0m\n",
      "\u001b[1;32mD:\\Dev\\Python27\\lib\\site-packages\\sklearn\\externals\\joblib\\parallel.pyc\u001b[0m in \u001b[0;36mdispatch\u001b[1;34m(self, func, args, kwargs)\u001b[0m\n\u001b[0;32m    404\u001b[0m         \"\"\"\n\u001b[0;32m    405\u001b[0m         \u001b[1;32mif\u001b[0m \u001b[0mself\u001b[0m\u001b[1;33m.\u001b[0m\u001b[0m_pool\u001b[0m \u001b[1;32mis\u001b[0m \u001b[0mNone\u001b[0m\u001b[1;33m:\u001b[0m\u001b[1;33m\u001b[0m\u001b[0m\n\u001b[1;32m--> 406\u001b[1;33m             \u001b[0mjob\u001b[0m \u001b[1;33m=\u001b[0m \u001b[0mImmediateApply\u001b[0m\u001b[1;33m(\u001b[0m\u001b[0mfunc\u001b[0m\u001b[1;33m,\u001b[0m \u001b[0margs\u001b[0m\u001b[1;33m,\u001b[0m \u001b[0mkwargs\u001b[0m\u001b[1;33m)\u001b[0m\u001b[1;33m\u001b[0m\u001b[0m\n\u001b[0m\u001b[0;32m    407\u001b[0m             \u001b[0mindex\u001b[0m \u001b[1;33m=\u001b[0m \u001b[0mlen\u001b[0m\u001b[1;33m(\u001b[0m\u001b[0mself\u001b[0m\u001b[1;33m.\u001b[0m\u001b[0m_jobs\u001b[0m\u001b[1;33m)\u001b[0m\u001b[1;33m\u001b[0m\u001b[0m\n\u001b[0;32m    408\u001b[0m             \u001b[1;32mif\u001b[0m \u001b[1;32mnot\u001b[0m \u001b[0m_verbosity_filter\u001b[0m\u001b[1;33m(\u001b[0m\u001b[0mindex\u001b[0m\u001b[1;33m,\u001b[0m \u001b[0mself\u001b[0m\u001b[1;33m.\u001b[0m\u001b[0mverbose\u001b[0m\u001b[1;33m)\u001b[0m\u001b[1;33m:\u001b[0m\u001b[1;33m\u001b[0m\u001b[0m\n",
      "\u001b[1;32mD:\\Dev\\Python27\\lib\\site-packages\\sklearn\\externals\\joblib\\parallel.pyc\u001b[0m in \u001b[0;36m__init__\u001b[1;34m(self, func, args, kwargs)\u001b[0m\n\u001b[0;32m    138\u001b[0m         \u001b[1;31m# Don't delay the application, to avoid keeping the input\u001b[0m\u001b[1;33m\u001b[0m\u001b[1;33m\u001b[0m\u001b[0m\n\u001b[0;32m    139\u001b[0m         \u001b[1;31m# arguments in memory\u001b[0m\u001b[1;33m\u001b[0m\u001b[1;33m\u001b[0m\u001b[0m\n\u001b[1;32m--> 140\u001b[1;33m         \u001b[0mself\u001b[0m\u001b[1;33m.\u001b[0m\u001b[0mresults\u001b[0m \u001b[1;33m=\u001b[0m \u001b[0mfunc\u001b[0m\u001b[1;33m(\u001b[0m\u001b[1;33m*\u001b[0m\u001b[0margs\u001b[0m\u001b[1;33m,\u001b[0m \u001b[1;33m**\u001b[0m\u001b[0mkwargs\u001b[0m\u001b[1;33m)\u001b[0m\u001b[1;33m\u001b[0m\u001b[0m\n\u001b[0m\u001b[0;32m    141\u001b[0m \u001b[1;33m\u001b[0m\u001b[0m\n\u001b[0;32m    142\u001b[0m     \u001b[1;32mdef\u001b[0m \u001b[0mget\u001b[0m\u001b[1;33m(\u001b[0m\u001b[0mself\u001b[0m\u001b[1;33m)\u001b[0m\u001b[1;33m:\u001b[0m\u001b[1;33m\u001b[0m\u001b[0m\n",
      "\u001b[1;32mD:\\Dev\\Python27\\lib\\site-packages\\sklearn\\cross_validation.pyc\u001b[0m in \u001b[0;36m_fit_and_score\u001b[1;34m(estimator, X, y, scorer, train, test, verbose, parameters, fit_params, return_train_score, return_parameters, error_score)\u001b[0m\n\u001b[0;32m   1457\u001b[0m             \u001b[0mestimator\u001b[0m\u001b[1;33m.\u001b[0m\u001b[0mfit\u001b[0m\u001b[1;33m(\u001b[0m\u001b[0mX_train\u001b[0m\u001b[1;33m,\u001b[0m \u001b[1;33m**\u001b[0m\u001b[0mfit_params\u001b[0m\u001b[1;33m)\u001b[0m\u001b[1;33m\u001b[0m\u001b[0m\n\u001b[0;32m   1458\u001b[0m         \u001b[1;32melse\u001b[0m\u001b[1;33m:\u001b[0m\u001b[1;33m\u001b[0m\u001b[0m\n\u001b[1;32m-> 1459\u001b[1;33m             \u001b[0mestimator\u001b[0m\u001b[1;33m.\u001b[0m\u001b[0mfit\u001b[0m\u001b[1;33m(\u001b[0m\u001b[0mX_train\u001b[0m\u001b[1;33m,\u001b[0m \u001b[0my_train\u001b[0m\u001b[1;33m,\u001b[0m \u001b[1;33m**\u001b[0m\u001b[0mfit_params\u001b[0m\u001b[1;33m)\u001b[0m\u001b[1;33m\u001b[0m\u001b[0m\n\u001b[0m\u001b[0;32m   1460\u001b[0m \u001b[1;33m\u001b[0m\u001b[0m\n\u001b[0;32m   1461\u001b[0m     \u001b[1;32mexcept\u001b[0m \u001b[0mException\u001b[0m \u001b[1;32mas\u001b[0m \u001b[0me\u001b[0m\u001b[1;33m:\u001b[0m\u001b[1;33m\u001b[0m\u001b[0m\n",
      "\u001b[1;32md:\\Documents\\Projects\\Python\\RNN\\twelm.py\u001b[0m in \u001b[0;36mfit\u001b[1;34m(self, X, y, hidden_layer)\u001b[0m\n\u001b[0;32m    177\u001b[0m         \u001b[1;34m\"\"\" Fits ELM to training samples X and labels y \"\"\"\u001b[0m\u001b[1;33m\u001b[0m\u001b[0m\n\u001b[0;32m    178\u001b[0m         \u001b[0mself\u001b[0m\u001b[1;33m.\u001b[0m\u001b[0mW\u001b[0m\u001b[1;33m,\u001b[0m \u001b[0m_\u001b[0m \u001b[1;33m=\u001b[0m \u001b[0mself\u001b[0m\u001b[1;33m.\u001b[0m\u001b[0m_hidden_init\u001b[0m\u001b[1;33m(\u001b[0m\u001b[0mX\u001b[0m\u001b[1;33m,\u001b[0m \u001b[0my\u001b[0m\u001b[1;33m,\u001b[0m \u001b[0mhidden_layer\u001b[0m\u001b[1;33m)\u001b[0m\u001b[1;33m\u001b[0m\u001b[0m\n\u001b[1;32m--> 179\u001b[1;33m         \u001b[0mH\u001b[0m \u001b[1;33m=\u001b[0m \u001b[0mself\u001b[0m\u001b[1;33m.\u001b[0m\u001b[0mf\u001b[0m\u001b[1;33m(\u001b[0m\u001b[0mX\u001b[0m\u001b[1;33m,\u001b[0m \u001b[0mself\u001b[0m\u001b[1;33m.\u001b[0m\u001b[0mW\u001b[0m\u001b[1;33m,\u001b[0m \u001b[0mself\u001b[0m\u001b[1;33m.\u001b[0m\u001b[0mb\u001b[0m\u001b[1;33m)\u001b[0m\u001b[1;33m\u001b[0m\u001b[0m\n\u001b[0m\u001b[0;32m    180\u001b[0m         \u001b[0mH\u001b[0m \u001b[1;33m=\u001b[0m \u001b[0mself\u001b[0m\u001b[1;33m.\u001b[0m\u001b[0mrbf\u001b[0m\u001b[1;33m(\u001b[0m\u001b[0mH\u001b[0m\u001b[1;33m)\u001b[0m\u001b[1;33m\u001b[0m\u001b[0m\n\u001b[0;32m    181\u001b[0m \u001b[1;33m\u001b[0m\u001b[0m\n",
      "\u001b[1;32md:\\Documents\\Projects\\Python\\RNN\\twelm.py\u001b[0m in \u001b[0;36meuclidean\u001b[1;34m(X, W, b)\u001b[0m\n\u001b[0;32m     35\u001b[0m     \u001b[1;32mif\u001b[0m \u001b[0mscipy\u001b[0m\u001b[1;33m.\u001b[0m\u001b[0msparse\u001b[0m\u001b[1;33m.\u001b[0m\u001b[0missparse\u001b[0m\u001b[1;33m(\u001b[0m\u001b[0mW\u001b[0m\u001b[1;33m)\u001b[0m\u001b[1;33m:\u001b[0m\u001b[1;33m\u001b[0m\u001b[0m\n\u001b[0;32m     36\u001b[0m         \u001b[0mW\u001b[0m \u001b[1;33m=\u001b[0m \u001b[0mW\u001b[0m\u001b[1;33m.\u001b[0m\u001b[0mtoarray\u001b[0m\u001b[1;33m(\u001b[0m\u001b[1;33m)\u001b[0m\u001b[1;33m\u001b[0m\u001b[0m\n\u001b[1;32m---> 37\u001b[1;33m     \u001b[0md\u001b[0m \u001b[1;33m=\u001b[0m \u001b[0mcdist\u001b[0m\u001b[1;33m(\u001b[0m\u001b[0mX\u001b[0m\u001b[1;33m,\u001b[0m \u001b[0mW\u001b[0m\u001b[1;33m,\u001b[0m \u001b[0mmetric\u001b[0m\u001b[1;33m=\u001b[0m\u001b[1;34m'euclidean'\u001b[0m\u001b[1;33m)\u001b[0m\u001b[1;33m\u001b[0m\u001b[0m\n\u001b[0m\u001b[0;32m     38\u001b[0m     \u001b[1;32mreturn\u001b[0m \u001b[0md\u001b[0m\u001b[1;33m\u001b[0m\u001b[0m\n\u001b[0;32m     39\u001b[0m \u001b[1;33m\u001b[0m\u001b[0m\n",
      "\u001b[1;32mD:\\Dev\\Python27\\lib\\site-packages\\scipy\\spatial\\distance.pyc\u001b[0m in \u001b[0;36mcdist\u001b[1;34m(XA, XB, metric, p, V, VI, w)\u001b[0m\n\u001b[0;32m   2073\u001b[0m         \u001b[1;32mif\u001b[0m \u001b[0mmstr\u001b[0m \u001b[1;32min\u001b[0m \u001b[0mset\u001b[0m\u001b[1;33m(\u001b[0m\u001b[1;33m[\u001b[0m\u001b[1;34m'euclidean'\u001b[0m\u001b[1;33m,\u001b[0m \u001b[1;34m'euclid'\u001b[0m\u001b[1;33m,\u001b[0m \u001b[1;34m'eu'\u001b[0m\u001b[1;33m,\u001b[0m \u001b[1;34m'e'\u001b[0m\u001b[1;33m]\u001b[0m\u001b[1;33m)\u001b[0m\u001b[1;33m:\u001b[0m\u001b[1;33m\u001b[0m\u001b[0m\n\u001b[0;32m   2074\u001b[0m             _distance_wrap.cdist_euclidean_wrap(_convert_to_double(XA),\n\u001b[1;32m-> 2075\u001b[1;33m                                                 _convert_to_double(XB), dm)\n\u001b[0m\u001b[0;32m   2076\u001b[0m         \u001b[1;32melif\u001b[0m \u001b[0mmstr\u001b[0m \u001b[1;32min\u001b[0m \u001b[0mset\u001b[0m\u001b[1;33m(\u001b[0m\u001b[1;33m[\u001b[0m\u001b[1;34m'sqeuclidean'\u001b[0m\u001b[1;33m,\u001b[0m \u001b[1;34m'sqe'\u001b[0m\u001b[1;33m,\u001b[0m \u001b[1;34m'sqeuclid'\u001b[0m\u001b[1;33m]\u001b[0m\u001b[1;33m)\u001b[0m\u001b[1;33m:\u001b[0m\u001b[1;33m\u001b[0m\u001b[0m\n\u001b[0;32m   2077\u001b[0m             _distance_wrap.cdist_sqeuclidean_wrap(_convert_to_double(XA),\n",
      "\u001b[1;31mKeyboardInterrupt\u001b[0m: "
     ]
    }
   ],
   "source": [
    "def get_estimator_descritpion(estimator):\n",
    "    name = type(estimator).__name__\n",
    "    if hasattr(estimator, 'metric_name') and not isinstance(estimator, RBFNet):\n",
    "        name+= '(%s)' % estimator.metric_name\n",
    "    return name\n",
    "\n",
    "scores_grid = pd.DataFrame()\n",
    "scores_grid.loc[:, 'dataset'] = pd.Series()\n",
    "for estimator in estimators:\n",
    "    scores_grid.loc[:,get_estimator_descritpion(estimator) +'_score'] = pd.Series(np.zeros(len(datafiles)))\n",
    "    scores_grid.loc[:, get_estimator_descritpion(estimator)+'_std'] = pd.Series(np.zeros(len(datafiles)))\n",
    "\n",
    "for i, datafile in enumerate(datafiles):\n",
    "    print(datafile)\n",
    "    \n",
    "    scores_grid.ix[i, 'dataset'] = datafile\n",
    "    features, activity = load_svmlight_file(datafile)\n",
    "\n",
    "    \n",
    "    estimators_scores, estimatoirs_scores_std = test_models(estimators, \n",
    "                                                            estimator_grids_simple,\n",
    "                                                            features,\n",
    "                                                            activity,\n",
    "                                                            scorer=bac_scorer,\n",
    "                                                            n_outer_folds=2,\n",
    "                                                            n_inner_folds=3,\n",
    "                                                            n_outer_repetitions=2)\n",
    "    \n",
    "    \n",
    "    for estimator, score, std in itertools.izip(estimators, estimators_scores, estimatoirs_scores_std):\n",
    "        scores_grid.ix[i, get_estimator_descritpion(estimator)+'_score'] = score\n",
    "        scores_grid.ix[i, get_estimator_descritpion(estimator)+'_std'] = std\n",
    "    \n",
    "    "
   ]
  },
  {
   "cell_type": "code",
   "execution_count": 13,
   "metadata": {
    "collapsed": false
   },
   "outputs": [
    {
     "data": {
      "text/html": [
       "<div>\n",
       "<table border=\"1\" class=\"dataframe\">\n",
       "  <thead>\n",
       "    <tr style=\"text-align: right;\">\n",
       "      <th></th>\n",
       "      <th>dataset</th>\n",
       "      <th>RBFNet_score</th>\n",
       "      <th>RBFNet_std</th>\n",
       "      <th>XELM(kulczynski2)_score</th>\n",
       "      <th>XELM(kulczynski2)_std</th>\n",
       "      <th>RandomForestClassifier_score</th>\n",
       "      <th>RandomForestClassifier_std</th>\n",
       "    </tr>\n",
       "  </thead>\n",
       "  <tbody>\n",
       "    <tr>\n",
       "      <th>0</th>\n",
       "      <td>data/5ht2a_ExtFP.libsvm</td>\n",
       "      <td>0.802907</td>\n",
       "      <td>0.094532</td>\n",
       "      <td>0.865038</td>\n",
       "      <td>0.017468</td>\n",
       "      <td>0.853076</td>\n",
       "      <td>0.012710</td>\n",
       "    </tr>\n",
       "    <tr>\n",
       "      <th>1</th>\n",
       "      <td>data/5ht2c_ExtFP.libsvm</td>\n",
       "      <td>0.868769</td>\n",
       "      <td>0.006647</td>\n",
       "      <td>0.868884</td>\n",
       "      <td>0.010979</td>\n",
       "      <td>0.874240</td>\n",
       "      <td>0.011241</td>\n",
       "    </tr>\n",
       "    <tr>\n",
       "      <th>2</th>\n",
       "      <td>data/5ht6_ExtFP.libsvm</td>\n",
       "      <td>0.862222</td>\n",
       "      <td>0.021185</td>\n",
       "      <td>0.866168</td>\n",
       "      <td>0.027185</td>\n",
       "      <td>0.867162</td>\n",
       "      <td>0.028424</td>\n",
       "    </tr>\n",
       "    <tr>\n",
       "      <th>3</th>\n",
       "      <td>data/5ht7_ExtFP.libsvm</td>\n",
       "      <td>0.778078</td>\n",
       "      <td>0.088816</td>\n",
       "      <td>0.852350</td>\n",
       "      <td>0.012302</td>\n",
       "      <td>0.807079</td>\n",
       "      <td>0.022839</td>\n",
       "    </tr>\n",
       "    <tr>\n",
       "      <th>4</th>\n",
       "      <td>data/M1_ExtFP.libsvm</td>\n",
       "      <td>0.864048</td>\n",
       "      <td>0.015336</td>\n",
       "      <td>0.874406</td>\n",
       "      <td>0.013076</td>\n",
       "      <td>0.876354</td>\n",
       "      <td>0.009607</td>\n",
       "    </tr>\n",
       "    <tr>\n",
       "      <th>5</th>\n",
       "      <td>data/SERT_ExtFP.libsvm</td>\n",
       "      <td>0.855464</td>\n",
       "      <td>0.014303</td>\n",
       "      <td>0.890700</td>\n",
       "      <td>0.010355</td>\n",
       "      <td>0.886037</td>\n",
       "      <td>0.007599</td>\n",
       "    </tr>\n",
       "    <tr>\n",
       "      <th>6</th>\n",
       "      <td>data/cathepsin_ExtFP.libsvm</td>\n",
       "      <td>0.865769</td>\n",
       "      <td>0.022706</td>\n",
       "      <td>0.872506</td>\n",
       "      <td>0.019922</td>\n",
       "      <td>0.832320</td>\n",
       "      <td>0.021451</td>\n",
       "    </tr>\n",
       "    <tr>\n",
       "      <th>7</th>\n",
       "      <td>data/d2_ExtFP.libsvm</td>\n",
       "      <td>0.815573</td>\n",
       "      <td>0.013163</td>\n",
       "      <td>0.859141</td>\n",
       "      <td>0.006020</td>\n",
       "      <td>0.874505</td>\n",
       "      <td>0.007941</td>\n",
       "    </tr>\n",
       "    <tr>\n",
       "      <th>8</th>\n",
       "      <td>data/h1_ExtFP.libsvm</td>\n",
       "      <td>0.899603</td>\n",
       "      <td>0.016435</td>\n",
       "      <td>0.921960</td>\n",
       "      <td>0.020117</td>\n",
       "      <td>0.911036</td>\n",
       "      <td>0.010353</td>\n",
       "    </tr>\n",
       "    <tr>\n",
       "      <th>9</th>\n",
       "      <td>data/hERG_ExtFP.libsvm</td>\n",
       "      <td>0.773722</td>\n",
       "      <td>0.020562</td>\n",
       "      <td>0.773913</td>\n",
       "      <td>0.023871</td>\n",
       "      <td>0.740507</td>\n",
       "      <td>0.018379</td>\n",
       "    </tr>\n",
       "    <tr>\n",
       "      <th>10</th>\n",
       "      <td>data/hiv_integrase_ExtFP.libsvm</td>\n",
       "      <td>0.860257</td>\n",
       "      <td>0.037431</td>\n",
       "      <td>0.862396</td>\n",
       "      <td>0.032348</td>\n",
       "      <td>0.835530</td>\n",
       "      <td>0.039292</td>\n",
       "    </tr>\n",
       "    <tr>\n",
       "      <th>11</th>\n",
       "      <td>data/hiv_protease_ExtFP.libsvm</td>\n",
       "      <td>0.804408</td>\n",
       "      <td>0.024343</td>\n",
       "      <td>0.835016</td>\n",
       "      <td>0.013931</td>\n",
       "      <td>0.830267</td>\n",
       "      <td>0.022463</td>\n",
       "    </tr>\n",
       "  </tbody>\n",
       "</table>\n",
       "</div>"
      ],
      "text/plain": [
       "                            dataset  RBFNet_score  RBFNet_std  \\\n",
       "0           data/5ht2a_ExtFP.libsvm      0.802907    0.094532   \n",
       "1           data/5ht2c_ExtFP.libsvm      0.868769    0.006647   \n",
       "2            data/5ht6_ExtFP.libsvm      0.862222    0.021185   \n",
       "3            data/5ht7_ExtFP.libsvm      0.778078    0.088816   \n",
       "4              data/M1_ExtFP.libsvm      0.864048    0.015336   \n",
       "5            data/SERT_ExtFP.libsvm      0.855464    0.014303   \n",
       "6       data/cathepsin_ExtFP.libsvm      0.865769    0.022706   \n",
       "7              data/d2_ExtFP.libsvm      0.815573    0.013163   \n",
       "8              data/h1_ExtFP.libsvm      0.899603    0.016435   \n",
       "9            data/hERG_ExtFP.libsvm      0.773722    0.020562   \n",
       "10  data/hiv_integrase_ExtFP.libsvm      0.860257    0.037431   \n",
       "11   data/hiv_protease_ExtFP.libsvm      0.804408    0.024343   \n",
       "\n",
       "    XELM(kulczynski2)_score  XELM(kulczynski2)_std  \\\n",
       "0                  0.865038               0.017468   \n",
       "1                  0.868884               0.010979   \n",
       "2                  0.866168               0.027185   \n",
       "3                  0.852350               0.012302   \n",
       "4                  0.874406               0.013076   \n",
       "5                  0.890700               0.010355   \n",
       "6                  0.872506               0.019922   \n",
       "7                  0.859141               0.006020   \n",
       "8                  0.921960               0.020117   \n",
       "9                  0.773913               0.023871   \n",
       "10                 0.862396               0.032348   \n",
       "11                 0.835016               0.013931   \n",
       "\n",
       "    RandomForestClassifier_score  RandomForestClassifier_std  \n",
       "0                       0.853076                    0.012710  \n",
       "1                       0.874240                    0.011241  \n",
       "2                       0.867162                    0.028424  \n",
       "3                       0.807079                    0.022839  \n",
       "4                       0.876354                    0.009607  \n",
       "5                       0.886037                    0.007599  \n",
       "6                       0.832320                    0.021451  \n",
       "7                       0.874505                    0.007941  \n",
       "8                       0.911036                    0.010353  \n",
       "9                       0.740507                    0.018379  \n",
       "10                      0.835530                    0.039292  \n",
       "11                      0.830267                    0.022463  "
      ]
     },
     "execution_count": 13,
     "metadata": {},
     "output_type": "execute_result"
    }
   ],
   "source": [
    "scores_grid"
   ]
  },
  {
   "cell_type": "code",
   "execution_count": 14,
   "metadata": {
    "collapsed": true
   },
   "outputs": [],
   "source": [
    "scores_grid.to_csv(r'data/scores_grid.csv', index=False)"
   ]
  },
  {
   "cell_type": "markdown",
   "metadata": {},
   "source": [
    "a)\n",
    "    1. outer*n\n",
    "    2. fix projection, adjust size\n",
    "    result: std minimization\n",
    "b) Models then projections then representations\n",
    "\n",
    "c) github"
   ]
  },
  {
   "cell_type": "code",
   "execution_count": null,
   "metadata": {
    "collapsed": true
   },
   "outputs": [],
   "source": []
  }
 ],
 "metadata": {
  "kernelspec": {
   "display_name": "Python 2",
   "language": "python",
   "name": "python2"
  },
  "language_info": {
   "codemirror_mode": {
    "name": "ipython",
    "version": 2
   },
   "file_extension": ".py",
   "mimetype": "text/x-python",
   "name": "python",
   "nbconvert_exporter": "python",
   "pygments_lexer": "ipython2",
   "version": "2.7.10"
  }
 },
 "nbformat": 4,
 "nbformat_minor": 0
}
